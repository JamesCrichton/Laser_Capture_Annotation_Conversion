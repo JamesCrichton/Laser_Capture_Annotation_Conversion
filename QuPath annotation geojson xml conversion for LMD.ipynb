{
 "cells": [
  {
   "cell_type": "markdown",
   "id": "4f52ba57-a0a1-42cf-a331-8118db9580e9",
   "metadata": {},
   "source": [
    "# Generate cutting XML from exported results from QuPath\n",
    "\n",
    "Modified from notebook **https://mannlabs.github.io/py-lmd/** by James Crichton\n",
    "\n",
    "Images first annotated in Qupath, including calibration points selected and **named** (this is an option in the proprties of an annotation and is distinct from its classification) with **points tool** and called \"calib1\", \"calib2\" and \"calib3\".\n",
    "\n",
    "Annotations exported as GeoJson file as a feature collection with **no compression**."
   ]
  },
  {
   "cell_type": "markdown",
   "id": "bd0c3df3-87f8-4503-8732-6b71c073d95c",
   "metadata": {},
   "source": [
    "## <font color='blue'>1. Set parameters for your conversion</font>\n",
    "\n",
    "For basic conversions (single classification, single well), **this is the only cell which requires any editing**.\n",
    "\n",
    "Once completed you can **\"Run All Cells\"**\n",
    "\n",
    "**Check output of 2.2 to verify annotation name and frequency.**"
   ]
  },
  {
   "cell_type": "code",
   "execution_count": 47,
   "id": "6c4d6b8a-c8f8-470e-8a86-877b09e5757e",
   "metadata": {
    "scrolled": true
   },
   "outputs": [],
   "source": [
    "geojson_annotation_file=\"./Laser_Capture_Annotation_Conversion/Tissue_test_annotations.geojson\" # geojson annotations file saved from QuPath\n",
    "xml_output_file=\"./converted_annotations.xml\" # destination for saving the converted output file for use on the LMD. End with \".xml\"\n",
    "annotation_classification=\"Tissue\" # this is the classification name of the annotation object to be dissected\n",
    "annotation_number=4 # how many of these annotations to dissect? Add number e.g. 1000. If all, set as \"All\""
   ]
  },
  {
   "cell_type": "markdown",
   "id": "ec554cc8-f4e3-43d4-9771-5e288b1e8024",
   "metadata": {},
   "source": [
    "## 2. Setup\n",
    "### 2.1 Import libraries "
   ]
  },
  {
   "cell_type": "code",
   "execution_count": 48,
   "id": "1184d94d-f58b-4a22-8b21-21986c5c529e",
   "metadata": {},
   "outputs": [],
   "source": [
    "# import required libraries\n",
    "import json \n",
    "import geojson \n",
    "import geopandas\n",
    "import pandas as pd\n",
    "import numpy as np\n",
    "from matplotlib import pyplot as plt\n",
    "from matplotlib.collections import LineCollection\n",
    "from matplotlib import cm\n",
    "from lmd.lib import Collection, Shape\n",
    "import math"
   ]
  },
  {
   "cell_type": "markdown",
   "id": "df2d8eaa-5881-4766-b235-da46ca9fde51",
   "metadata": {},
   "source": [
    "### 2.2 Import data and check parameters"
   ]
  },
  {
   "cell_type": "code",
   "execution_count": 58,
   "id": "48be1cf0-a6a9-4d14-9e3b-b4c14cdbbb37",
   "metadata": {},
   "outputs": [
    {
     "name": "stdout",
     "output_type": "stream",
     "text": [
      "\n",
      "230 annotations imported\n",
      "\n",
      "Calibration points are all present.\n",
      "\n",
      "Number of each annotation:\n"
     ]
    },
    {
     "data": {
      "text/plain": [
       "Tissue          168\n",
       "Unclassified     59\n",
       "calib1            1\n",
       "calib3            1\n",
       "calib2            1\n",
       "Name: count, dtype: int64"
      ]
     },
     "execution_count": 58,
     "metadata": {},
     "output_type": "execute_result"
    }
   ],
   "source": [
    "# 1. Import annotations\n",
    "df = geopandas.read_file(geojson_annotation_file)\n",
    "\n",
    "# 2. Number of annotations\n",
    "print(f\"\\n{df.shape[0]} annotations imported\\n\")\n",
    "\n",
    "# 3. Are claib points there?\n",
    "# Values to check\n",
    "targets = [\"calib1\", \"calib2\",\"calib3\"]\n",
    "\n",
    "# Check presence\n",
    "missing = [x for x in targets if x not in df[\"name\"].values]\n",
    "\n",
    "if not missing:\n",
    "    print(\"Calibration points are all present.\")\n",
    "else:\n",
    "    print(f\"Missing: {', '.join(missing)}, this isn't going to work\")    \n",
    "\n",
    "# 4. Number of different anntoation classifications\n",
    "names = [row[\"name\"] for row in df[\"classification\"]]\n",
    "print(\"\\nNumber of each annotation:\")\n",
    "pd.Series(names).value_counts() "
   ]
  },
  {
   "cell_type": "markdown",
   "id": "aeba5eaa-7dc1-4bb7-9980-1423862fe9b9",
   "metadata": {},
   "source": [
    "### 2.3 Define helper functions"
   ]
  },
  {
   "cell_type": "code",
   "execution_count": 88,
   "id": "4f59bdce-36d8-40a6-a273-d91e5f1a028b",
   "metadata": {},
   "outputs": [],
   "source": [
    "#define helper functions\n",
    "\n",
    "def get_calib_points(list_of_calibpoint_names, df):\n",
    "    #create shape list\n",
    "    pointlist = []\n",
    "    for point_name in list_of_calibpoint_names:\n",
    "        pointlist.append(df.loc[df['name'] == point_name, 'geometry'].values[0])\n",
    "\n",
    "    #create coordinate list\n",
    "    listarray = []\n",
    "    for point in pointlist:\n",
    "        listarray.append([point.x, point.y])\n",
    "    nparray = np.array(listarray)\n",
    "\n",
    "    return(nparray)\n",
    "\n",
    "#returns dataframe with only polygon objects\n",
    "def remove_non_polygons(df):\n",
    "    import shapely\n",
    "\n",
    "    df_filtered = df.loc[[type(x) == shapely.geometry.polygon.Polygon for x in df.geometry]]\n",
    "    return(df_filtered)\n",
    "\n",
    "#creates new column for coordenates in a list of list format\n",
    "#assumes only polygons in dataframe\n",
    "def replace_coords(df):\n",
    "    df['coordinates_shape_exterior'] = np.nan\n",
    "    df['coordinates_shape_exterior'] = df['coordinates_shape_exterior'].astype('object')\n",
    "\n",
    "    for i in df.index:\n",
    "        #get geometry object for row i\n",
    "        geom = df.at[i, 'geometry']\n",
    "        #list the coordinate points as tuples\n",
    "        tmp = list(geom.exterior.coords)\n",
    "        #transform list of tuples to list of lists and save to dataframe\n",
    "        df.at[i,'coordinates_shape_exterior'] = [list(i) for i in tmp]\n",
    "\n",
    "    return(df)\n",
    "\n",
    "def nearest_neighbor_path(df):\n",
    "    coords=df.centroid_coords\n",
    "    index_list=df.index.tolist()\n",
    "\n",
    "    start_index = index_list[0]\n",
    "    coords = coords[:]  # copy so we don't modify original\n",
    "    visited = [start_index]\n",
    "    unvisited = set(index_list) - {start_index}\n",
    "    \n",
    "    while unvisited:\n",
    "        last_index = visited[-1]\n",
    "        nearest_index = min(\n",
    "            unvisited,\n",
    "            key=lambda i: math.hypot(\n",
    "                coords[i][0] - coords[last_index][0],\n",
    "                coords[i][1] - coords[last_index][1]\n",
    "            )\n",
    "        )\n",
    "        visited.append(nearest_index)\n",
    "        unvisited.remove(nearest_index)\n",
    "    \n",
    "    # Return ordered coordinates\n",
    "    # return [coords[i] for i in visited]\n",
    "    \n",
    "    # Return ordered df\n",
    "    return df.loc[visited]\n",
    "\n",
    "    \n",
    "# Calculate distance travelled\n",
    "def dissection_path_length(coords):\n",
    "    total_distance = sum(\n",
    "        math.hypot(x2 - x1, y2 - y1)\n",
    "        for (x1, y1), (x2, y2) in zip(coords, coords[1:])\n",
    "    )\n",
    "    return total_distance"
   ]
  },
  {
   "cell_type": "markdown",
   "id": "5db96b7d-3189-409f-8ab7-755307304fa1",
   "metadata": {},
   "source": [
    "## 3. Format and filter annotations\n"
   ]
  },
  {
   "cell_type": "code",
   "execution_count": 81,
   "id": "6740d0b4-ac8d-4037-8b20-7f248008222c",
   "metadata": {},
   "outputs": [
    {
     "name": "stderr",
     "output_type": "stream",
     "text": [
      "C:\\Users\\jcc234\\AppData\\Local\\anaconda3\\envs\\LMD_env\\lib\\site-packages\\geopandas\\geodataframe.py:1528: SettingWithCopyWarning: \n",
      "A value is trying to be set on a copy of a slice from a DataFrame.\n",
      "Try using .loc[row_indexer,col_indexer] = value instead\n",
      "\n",
      "See the caveats in the documentation: https://pandas.pydata.org/pandas-docs/stable/user_guide/indexing.html#returning-a-view-versus-a-copy\n",
      "  super().__setitem__(key, value)\n",
      "C:\\Users\\jcc234\\AppData\\Local\\anaconda3\\envs\\LMD_env\\lib\\site-packages\\geopandas\\geodataframe.py:1528: SettingWithCopyWarning: \n",
      "A value is trying to be set on a copy of a slice from a DataFrame.\n",
      "Try using .loc[row_indexer,col_indexer] = value instead\n",
      "\n",
      "See the caveats in the documentation: https://pandas.pydata.org/pandas-docs/stable/user_guide/indexing.html#returning-a-view-versus-a-copy\n",
      "  super().__setitem__(key, value)\n",
      "C:\\Users\\jcc234\\AppData\\Local\\Temp\\ipykernel_25796\\1144045864.py:22: UserWarning: Geometry is in a geographic CRS. Results from 'centroid' are likely incorrect. Use 'GeoSeries.to_crs()' to re-project geometries to a projected CRS before this operation.\n",
      "\n",
      "  selected_gdf[\"centroid_coords\"] = [(geom.x, geom.y) for geom in selected_gdf.geometry.centroid]\n"
     ]
    }
   ],
   "source": [
    "# Find annotations for the calibration points\n",
    "caliblist = get_calib_points(['calib1','calib2','calib3'],df)\n",
    "\n",
    "# Clean up dataframe: Remove non-polygon shapes, extract polygon coordinates, and parse annotation for easier use\n",
    "df_poly = remove_non_polygons(df)\n",
    "df_poly = replace_coords(df_poly)\n",
    "\n",
    "# Filter dataset to contain only the named annotation class\n",
    "selected_index=[]\n",
    "for index, row in df_poly.iterrows():\n",
    "    if (row.loc[\"classification\"] is not None):\n",
    "        if (row.loc[\"classification\"][\"name\"]==annotation_classification):\n",
    "            selected_index.append(index)\n",
    "            \n",
    "selected_gdf=df_poly.loc[selected_index]\n",
    "\n",
    "# If a set number of objects was requested, subset the dataset\n",
    "if annotation_number!=\"All\":\n",
    "    selected_gdf=selected_gdf.head(annotation_number)\n",
    "    \n",
    "# Add centroid coordinates for path optimisation\n",
    "selected_gdf[\"centroid_coords\"] = [(geom.x, geom.y) for geom in selected_gdf.geometry.centroid] "
   ]
  },
  {
   "cell_type": "markdown",
   "id": "4ba30b26-d4e0-4efb-80b1-e5d88a2dc3d9",
   "metadata": {},
   "source": [
    "## 4. Improve path further by moving between nearest neighbours\n"
   ]
  },
  {
   "cell_type": "code",
   "execution_count": 91,
   "id": "080c1c12-be81-4b4d-8257-fad5ef66a1df",
   "metadata": {},
   "outputs": [
    {
     "name": "stdout",
     "output_type": "stream",
     "text": [
      "Original dissection path length is 92,091.14px\n",
      "Sorted dissection path length is 50,527.09px\n",
      "Sorted distance is 54.87% of original distance\n"
     ]
    }
   ],
   "source": [
    "# Sort dataset order\n",
    "ordered_gdf = nearest_neighbor_path(selected_gdf)\n",
    "\n",
    "#Caluclate change in distance\n",
    "original_length=dissection_path_length(selected_gdf.centroid_coords)\n",
    "print(f\"Original dissection path length is {original_length:,.2f}px\")\n",
    "\n",
    "sorted_length=dissection_path_length(ordered_gdf.centroid_coords)\n",
    "print(f\"Sorted dissection path length is {sorted_length:,.2f}px\")\n",
    "\n",
    "relative_distance=(sorted_length/original_length)*100\n",
    "print(f\"Sorted distance is {relative_distance:,.2f}% of original distance\")"
   ]
  },
  {
   "cell_type": "markdown",
   "id": "76987aaf-6c1f-48a2-a4bb-8929402f98fa",
   "metadata": {},
   "source": [
    "## 5. Generate shape collection for dissection"
   ]
  },
  {
   "cell_type": "code",
   "execution_count": 92,
   "id": "ea11522f-4e0c-4d16-928d-b4a674fc4f6d",
   "metadata": {},
   "outputs": [
    {
     "name": "stdout",
     "output_type": "stream",
     "text": [
      "===== Collection Stats =====\n",
      "Number of shapes: 4\n",
      "Number of vertices: 258\n",
      "============================\n",
      "Mean vertices: 64\n",
      "Min vertices: 9\n",
      "5% percentile vertices: 9\n",
      "Median vertices: 14\n",
      "95% percentile vertices: 190\n",
      "Max vertices: 221\n",
      "None\n"
     ]
    },
    {
     "data": {
      "image/png": "[encoded data removed]",
      "text/plain": [
       "<Figure size 500x500 with 1 Axes>"
      ]
     },
     "metadata": {},
     "output_type": "display_data"
    }
   ],
   "source": [
    "# Calibration points\n",
    "shape_collection = Collection(calibration_points = caliblist)\n",
    "shape_collection.orientation_transform = np.array([[1,0 ], [0,-1]])\n",
    "\n",
    "# Annotations\n",
    "for i in ordered_gdf.index:\n",
    "    shape_collection.new_shape(selected_gdf.loc[i,'coordinates_shape_exterior'], well = \"well1\") \n",
    "\n",
    "# Print some statistics on the shapes included in the collection and visualize results\n",
    "print(shape_collection.stats())\n",
    "\n",
    "# Plot \n",
    "shape_collection.plot(calibration = True)"
   ]
  },
  {
   "cell_type": "markdown",
   "id": "e3c7e2f3-4e16-444e-80b5-fbb436afd567",
   "metadata": {},
   "source": [
    "## 6. Export to .xml file for LMD\n",
    "\n"
   ]
  },
  {
   "cell_type": "code",
   "execution_count": 25,
   "id": "c5b921ea-9e47-45ed-8a76-4cfe7992b243",
   "metadata": {},
   "outputs": [
    {
     "name": "stdout",
     "output_type": "stream",
     "text": [
      "[11716051.  -177419.]\n",
      "[  528278. -3178769.]\n",
      "[  152831. -1673412.]\n"
     ]
    }
   ],
   "source": [
    "shape_collection.save(xml_output_file)"
   ]
  }
 ],
 "metadata": {
  "kernelspec": {
   "display_name": "Python 3 (ipykernel)",
   "language": "python",
   "name": "python3"
  },
  "language_info": {
   "codemirror_mode": {
    "name": "ipython",
    "version": 3
   },
   "file_extension": ".py",
   "mimetype": "text/x-python",
   "name": "python",
   "nbconvert_exporter": "python",
   "pygments_lexer": "ipython3",
   "version": "3.9.21"
  }
 },
 "nbformat": 4,
 "nbformat_minor": 5
}
